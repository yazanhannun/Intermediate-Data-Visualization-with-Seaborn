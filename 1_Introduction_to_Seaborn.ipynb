{
 "cells": [
  {
   "attachments": {},
   "cell_type": "markdown",
   "metadata": {},
   "source": [
    "# Seaborn Introduction \n",
    "\n",
    "Introduction to the Seaborn library and where it fits in the Python visualization landscape."
   ]
  },
  {
   "attachments": {},
   "cell_type": "markdown",
   "metadata": {},
   "source": [
    "# 1.Introduction to Seaborn"
   ]
  },
  {
   "attachments": {},
   "cell_type": "markdown",
   "metadata": {},
   "source": [
    "1.1 Seaborn foundation\n",
    "\n",
    "What library provides the foundation for pandas and Seaborn plotting?\n",
    "\n",
    "- javascript\n",
    "\n",
    "- <b><font color='green'>matplotlib</font></b>\n",
    "\n",
    "- vega\n",
    "\n",
    "- ggplot2"
   ]
  }
 ],
 "metadata": {
  "language_info": {
   "name": "python"
  },
  "orig_nbformat": 4
 },
 "nbformat": 4,
 "nbformat_minor": 2
}
