{
 "cells": [
  {
   "attachments": {},
   "cell_type": "markdown",
   "metadata": {},
   "source": [
    "# Seaborn Introduction \n",
    "\n",
    "Introduction to the Seaborn library and where it fits in the Python visualization landscape."
   ]
  },
  {
   "attachments": {},
   "cell_type": "markdown",
   "metadata": {},
   "source": [
    "# 1.Introduction to Seaborn"
   ]
  },
  {
   "attachments": {},
   "cell_type": "markdown",
   "metadata": {},
   "source": [
    "1.1 Seaborn foundation\n",
    "\n",
    "What library provides the foundation for pandas and Seaborn plotting?\n",
    "\n",
    "- javascript\n",
    "\n",
    "- <b><font color='green'>matplotlib</font></b>\n",
    "\n",
    "- vega\n",
    "\n",
    "- ggplot2\n",
    "\n",
    "matplotlib is the basis for many python plotting libraries. A basic understanding of matplotlib is helpful for better understanding Seaborn."
   ]
  },
  {
   "attachments": {},
   "cell_type": "markdown",
   "metadata": {},
   "source": [
    "1.2 Reading a csv file\n",
    "\n",
    "Before you analyze data, you will need to read the data into a pandas DataFrame. In this exercise, you will be looking at data from US School Improvement Grants in 2010. This program gave nearly $4B to schools to help them renovate or improve their programs.\n",
    "\n",
    "This first step in most data analysis is to import pandas and seaborn and read a data file in order to analyze it further."
   ]
  },
  {
   "cell_type": "code",
   "execution_count": 2,
   "metadata": {},
   "outputs": [
    {
     "name": "stdout",
     "output_type": "stream",
     "text": [
      "   Unnamed: 0                        School Name      City State  \\\n",
      "0           0  HOGARTH KINGEEKUK MEMORIAL SCHOOL  SAVOONGA    AK   \n",
      "1           1                    AKIACHAK SCHOOL  AKIACHAK    AK   \n",
      "2           2                     GAMBELL SCHOOL   GAMBELL    AK   \n",
      "3           3               BURCHELL HIGH SCHOOL   WASILLA    AK   \n",
      "4           4                       AKIAK SCHOOL     AKIAK    AK   \n",
      "\n",
      "                               District Name  Model Selected  Award_Amount  \\\n",
      "0              BERING STRAIT SCHOOL DISTRICT  Transformation        471014   \n",
      "1                     YUPIIT SCHOOL DISTRICT  Transformation        520579   \n",
      "2              BERING STRAIT SCHOOL DISTRICT  Transformation        449592   \n",
      "3  MATANUSKA-SUSITNA BOROUGH SCHOOL DISTRICT  Transformation        641184   \n",
      "4                     YUPIIT SCHOOL DISTRICT  Transformation        399686   \n",
      "\n",
      "  Region  \n",
      "0   West  \n",
      "1   West  \n",
      "2   West  \n",
      "3   West  \n",
      "4   West  \n"
     ]
    }
   ],
   "source": [
    "# import all modules\n",
    "import pandas as pd\n",
    "import seaborn as sns\n",
    "import matplotlib.pyplot as plt\n",
    "\n",
    "# Read in the DataFrame\n",
    "df = pd.read_csv('Datasets\\schoolimprovement2010grants.csv')\n",
    "print(df.head())"
   ]
  }
 ],
 "metadata": {
  "kernelspec": {
   "display_name": "Python 3",
   "language": "python",
   "name": "python3"
  },
  "language_info": {
   "codemirror_mode": {
    "name": "ipython",
    "version": 3
   },
   "file_extension": ".py",
   "mimetype": "text/x-python",
   "name": "python",
   "nbconvert_exporter": "python",
   "pygments_lexer": "ipython3",
   "version": "3.10.10"
  },
  "orig_nbformat": 4
 },
 "nbformat": 4,
 "nbformat_minor": 2
}
